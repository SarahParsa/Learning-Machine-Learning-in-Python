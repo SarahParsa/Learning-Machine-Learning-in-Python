{
 "cells": [
  {
   "cell_type": "markdown",
   "metadata": {},
   "source": [
    "# 1- Numpy\n",
    "**NumPy** (stands for Numerical Python) is the fundamental library for scientific computing with Python. We use this packages to work with **matrices** (n_D arrays). Matrices are so important in **Machine Learning**, since they are used to reading and representing **Inputs, Outputs, and Parameters**."
   ]
  },
  {
   "cell_type": "code",
   "execution_count": null,
   "metadata": {},
   "outputs": [],
   "source": [
    "#import the numpy packages to be able to use it.\n",
    "import numpy as np\n",
    "!python --version"
   ]
  },
  {
   "cell_type": "code",
   "execution_count": null,
   "metadata": {},
   "outputs": [],
   "source": [
    "#Seeing all defined functions and variables in numpy \n",
    "dir(np)"
   ]
  },
  {
   "cell_type": "markdown",
   "metadata": {},
   "source": [
    "# 1-1. Creating Arrays in Numpy\n",
    "The main **object** of Numpy is the multidimensional array(In Numpy **dimensions** are called **axes**).The array class of Numpy is called **ndarray** (array). We can creat n_D arrays (such as vectors or matrices) using following commands:"
   ]
  },
  {
   "cell_type": "code",
   "execution_count": null,
   "metadata": {},
   "outputs": [],
   "source": [
    "# create a vector as a Row\n",
    "a = np.array([1,2,3])\n",
    "print('a is a Row vector : ',a, '\\n')\n",
    "\n",
    "# create a vector as a Column\n",
    "b = np.array([[1],[2],[3]])\n",
    "print('b is a Column vector : \\n',b)"
   ]
  },
  {
   "cell_type": "markdown",
   "metadata": {},
   "source": [
    "The more important **attributes** of an **ndarray** object are:<br></br><br></br>\n",
    " <li>**ndarray.ndim:** the number of dimentions of the array. </li><br></br>\n",
    " <li>**ndarray.shape:** a tuple of integers indicating the size of the array in each dimension.</li><br></br>\n",
    " <li>**ndarray.size:** the total number of elements of the array.</li><br></br>\n",
    " <li>**ndarray.dtype:** the type of the elements in the array.</li><br></br>\n",
    " <li>**ndarray.itemsize:** the size in bytes of each element of the array.</li><br></br>"
   ]
  },
  {
   "cell_type": "code",
   "execution_count": null,
   "metadata": {},
   "outputs": [],
   "source": [
    "np.shape(a)\n",
    "#or\n",
    "#print(a.shape)"
   ]
  },
  {
   "cell_type": "code",
   "execution_count": null,
   "metadata": {},
   "outputs": [],
   "source": [
    "# the following two commands show you the Docstring of every variables and functions in NumPy \n",
    "help(np.shape)\n",
    "# Or\n",
    "np.shape?"
   ]
  },
  {
   "cell_type": "code",
   "execution_count": null,
   "metadata": {},
   "outputs": [],
   "source": [
    " a = np.array([[1, 2], [3, 4]])\n",
    "print(a)"
   ]
  },
  {
   "cell_type": "code",
   "execution_count": null,
   "metadata": {},
   "outputs": [],
   "source": [
    "a.shape"
   ]
  },
  {
   "cell_type": "code",
   "execution_count": null,
   "metadata": {},
   "outputs": [],
   "source": [
    "print(np.shape(np.array([1,2,3])))"
   ]
  },
  {
   "cell_type": "code",
   "execution_count": null,
   "metadata": {},
   "outputs": [],
   "source": [
    "b = np.array([[1,2,3],[4,5,6]])\n",
    "print(b,'\\n')\n",
    "print(b.shape)"
   ]
  },
  {
   "cell_type": "markdown",
   "metadata": {},
   "source": [
    "**Note**<br></br> <li>**reshape:** gives a new shape to an array without changing its data (size of array does not change).</li><br></br> <li>**resize:** changes shape and size of array in-place..</li>"
   ]
  },
  {
   "cell_type": "code",
   "execution_count": null,
   "metadata": {},
   "outputs": [],
   "source": [
    "print(b.shape, '\\n')\n",
    "np.reshape(b,(3,2))"
   ]
  },
  {
   "cell_type": "code",
   "execution_count": null,
   "metadata": {},
   "outputs": [],
   "source": [
    "print(b.shape)"
   ]
  },
  {
   "cell_type": "code",
   "execution_count": null,
   "metadata": {},
   "outputs": [],
   "source": [
    "print(b)"
   ]
  },
  {
   "cell_type": "code",
   "execution_count": null,
   "metadata": {},
   "outputs": [],
   "source": [
    "np.resize(b,(3,2))"
   ]
  },
  {
   "cell_type": "code",
   "execution_count": null,
   "metadata": {},
   "outputs": [],
   "source": [
    "# notice that (4,4) is larger than the shape of original array, \n",
    "# then the new array is filled with repeated copies of `b`\n",
    "np.resize(b,(4,4)) "
   ]
  },
  {
   "cell_type": "code",
   "execution_count": null,
   "metadata": {},
   "outputs": [],
   "source": [
    "# notice that (4,4) is larger than the shape of original array, \n",
    "# then the new array is filled with zeros instead of repeated copies of `y`\n",
    "y = np.array([[0, 1], [2, 3]])\n",
    "y.resize(4,4)\n",
    "print(y)"
   ]
  },
  {
   "cell_type": "markdown",
   "metadata": {},
   "source": [
    "**Two ways to convert 1_D array to 2_D array:**"
   ]
  },
  {
   "cell_type": "code",
   "execution_count": null,
   "metadata": {},
   "outputs": [],
   "source": [
    "x = np.array([1,2,3])\n",
    "print(x)\n",
    "print(type(x))"
   ]
  },
  {
   "cell_type": "code",
   "execution_count": null,
   "metadata": {},
   "outputs": [],
   "source": [
    "print(x[:,np.newaxis]) # or print(x[: , None])\n"
   ]
  },
  {
   "cell_type": "code",
   "execution_count": null,
   "metadata": {},
   "outputs": [],
   "source": [
    "print(np.shape([[1,2,3],[4,5,6]]))"
   ]
  },
  {
   "cell_type": "markdown",
   "metadata": {},
   "source": [
    "**Numpy** also provides many functions to create arrays. see following examples:"
   ]
  },
  {
   "cell_type": "code",
   "execution_count": null,
   "metadata": {},
   "outputs": [],
   "source": [
    "# create an array of zeros\n",
    "a = np.zeros((3,3))\n",
    "print(a)"
   ]
  },
  {
   "cell_type": "code",
   "execution_count": null,
   "metadata": {
    "scrolled": true
   },
   "outputs": [],
   "source": [
    "# create an array of ones\n",
    "b = np.ones((3,3))\n",
    "print(b)"
   ]
  },
  {
   "cell_type": "code",
   "execution_count": null,
   "metadata": {},
   "outputs": [],
   "source": [
    "#create a constant array\n",
    "c = np.full((3,3),5)\n",
    "print(c)"
   ]
  },
  {
   "cell_type": "code",
   "execution_count": null,
   "metadata": {},
   "outputs": [],
   "source": [
    "# create an identity matrix\n",
    "d = np.eye(2)\n",
    "print(d)"
   ]
  },
  {
   "cell_type": "markdown",
   "metadata": {},
   "source": [
    "**Notice that:**<br></br><li>**arange:** returns evenly spaced values within a given interval. For using a non-integer step, such as 0.1, it is better to use **linspace**.</li><br></br> <li>**logspace:** returns numbers spaced evenly on a log scale.</li>"
   ]
  },
  {
   "cell_type": "code",
   "execution_count": null,
   "metadata": {},
   "outputs": [],
   "source": [
    "print(np.arange(1,10))"
   ]
  },
  {
   "cell_type": "code",
   "execution_count": null,
   "metadata": {},
   "outputs": [],
   "source": [
    "print(np.linspace(1, 10))"
   ]
  },
  {
   "cell_type": "code",
   "execution_count": null,
   "metadata": {},
   "outputs": [],
   "source": [
    "x = np.logspace(1,5,num=5)\n",
    "print(x)"
   ]
  },
  {
   "cell_type": "code",
   "execution_count": null,
   "metadata": {},
   "outputs": [],
   "source": [
    "# for setting printing options.\n",
    "np.set_printoptions(formatter = {'all': lambda x: '%d' % x})\n",
    "print(x)"
   ]
  },
  {
   "cell_type": "code",
   "execution_count": null,
   "metadata": {},
   "outputs": [],
   "source": [
    "# return to default\n",
    "np.set_printoptions()\n",
    "print(x)"
   ]
  },
  {
   "cell_type": "markdown",
   "metadata": {},
   "source": [
    "# 1-2. Access to elements\n",
    "<br></br><li>**Indexing and Slicing**</li>"
   ]
  },
  {
   "cell_type": "markdown",
   "metadata": {},
   "source": [
    "# 1-3. Array operations\n",
    "<br></br><li>**Mathematical and statistical operation**</li>\n",
    "<br></br><li>**Matrix operation**</li>\n",
    "See <a href=\"https://github.com/SarahParsa/Learning-Machine-Learning-in-Python/blob/master/Linear-Algebra%20in%20Machine-Learning%20in%20Python.ipynb\"> this topic</a>"
   ]
  },
  {
   "cell_type": "markdown",
   "metadata": {},
   "source": [
    "# 1-4. Distributions in NumPy "
   ]
  },
  {
   "cell_type": "markdown",
   "metadata": {},
   "source": [
    "In this section I want to show the all standard Numpy operations which would be required to start Machine_Learning journey with Python. It will be completed soon ..."
   ]
  }
 ],
 "metadata": {
  "kernelspec": {
   "display_name": "Python 3",
   "language": "python",
   "name": "python3"
  },
  "language_info": {
   "codemirror_mode": {
    "name": "ipython",
    "version": 3
   },
   "file_extension": ".py",
   "mimetype": "text/x-python",
   "name": "python",
   "nbconvert_exporter": "python",
   "pygments_lexer": "ipython3",
   "version": "3.7.4"
  }
 },
 "nbformat": 4,
 "nbformat_minor": 2
}
